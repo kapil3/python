{
  "nbformat": 4,
  "nbformat_minor": 0,
  "metadata": {
    "colab": {
      "name": "Assignment_3.ipynb",
      "provenance": [],
      "collapsed_sections": []
    },
    "kernelspec": {
      "name": "python3",
      "display_name": "Python 3"
    }
  },
  "cells": [
    {
      "cell_type": "markdown",
      "metadata": {
        "id": "m0I9BT5s0Mm2",
        "colab_type": "text"
      },
      "source": [
        "# **Assignment No.3**"
      ]
    },
    {
      "cell_type": "markdown",
      "metadata": {
        "id": "SXPqIx5S0Z10",
        "colab_type": "text"
      },
      "source": [
        "Task 1"
      ]
    },
    {
      "cell_type": "markdown",
      "metadata": {
        "id": "hQWrfmkX0eck",
        "colab_type": "text"
      },
      "source": [
        "1.Write a function to compute 5/0 and use try/except to catch the exceptions.\n"
      ]
    },
    {
      "cell_type": "code",
      "metadata": {
        "id": "5TRTJVJoMT_B",
        "colab_type": "code",
        "outputId": "b6c43a6b-a0d2-49be-9f19-5181a2136a3d",
        "colab": {
          "base_uri": "https://localhost:8080/",
          "height": 34
        }
      },
      "source": [
        "def divide():\n",
        "    return 5/0\n",
        "\n",
        "try:\n",
        "    divide()\n",
        "except ZeroDivisionError as ze:\n",
        "    print(\"Dividing a number by ZERO!!\")\n",
        "except:\n",
        "    print(\"Any other exception\")"
      ],
      "execution_count": 1,
      "outputs": [
        {
          "output_type": "stream",
          "text": [
            "Dividing a number by ZERO!!\n"
          ],
          "name": "stdout"
        }
      ]
    },
    {
      "cell_type": "markdown",
      "metadata": {
        "id": "DGyXxZ7T01d9",
        "colab_type": "text"
      },
      "source": [
        "Implement a Python program to generate all sentences where subject is in [\"Americans\",\n",
        "\"Indians\"] and verb is in [\"Play\", \"watch\"] and the object is in [\"Baseball\",\"cricket\"].\n",
        "Hint: Subject,Verb and Object should be declared in the program as shown below.\n",
        "subjects=[\"Americans \",\"Indians\"]\n",
        "verbs=[\"play\",\"watch\"]\n",
        "objects=[\"Baseball\",\"Cricket\"]\n",
        "\n",
        "Output should come as below:\n",
        "\n",
        "Americans play Baseball.\n",
        "Americans play Cricket.\n",
        "Americans watch Baseball.\n",
        "Americans watch Cricket.\n",
        "Indians play Baseball.\n",
        "Indians play Cricket.\n",
        "Indians watch Baseball.\n",
        "Indians watch Cricket."
      ]
    },
    {
      "cell_type": "code",
      "metadata": {
        "id": "esX6diePM1vc",
        "colab_type": "code",
        "outputId": "6d68f6a0-fedb-4725-8d5b-e03963051611",
        "colab": {
          "base_uri": "https://localhost:8080/",
          "height": 170
        }
      },
      "source": [
        "subjects=[\"Americans \",\"Indians\"] \n",
        "verbs=[\"play\",\"watch\"] \n",
        "objects=[\"Baseball\",\"Cricket\"]\n",
        "\n",
        "sentence_list=[sub+\" \"+ve+\" \"+ob+\"\\n\" for sub in subjects for ve in verbs for ob in objects]\n",
        "print(*sentence_list)"
      ],
      "execution_count": 2,
      "outputs": [
        {
          "output_type": "stream",
          "text": [
            "Americans  play Baseball\n",
            " Americans  play Cricket\n",
            " Americans  watch Baseball\n",
            " Americans  watch Cricket\n",
            " Indians play Baseball\n",
            " Indians play Cricket\n",
            " Indians watch Baseball\n",
            " Indians watch Cricket\n",
            "\n"
          ],
          "name": "stdout"
        }
      ]
    },
    {
      "cell_type": "markdown",
      "metadata": {
        "id": "21UE0e9A264e",
        "colab_type": "text"
      },
      "source": [
        "Task 2:\n",
        "1.\n",
        "Write a function so that the columns of the output matrix are powers of the input vector.\n",
        "The order of the powers is determined by the increasing boolean argument. Specifically, when\n",
        "increasing is False, the i-th output column is the input vector raised element-wise to the power\n",
        "of N - i - 1.\n",
        "\n",
        "HINT: Such a matrix with a geometric progression in each row is named for AlexandreTheophile Vandermonde.\n"
      ]
    },
    {
      "cell_type": "code",
      "metadata": {
        "id": "VgCxtRc03Cux",
        "colab_type": "code",
        "colab": {
          "base_uri": "https://localhost:8080/",
          "height": 799
        },
        "outputId": "c58a1c23-08ce-4095-faa3-02bb6d8da63c"
      },
      "source": [
        "import numpy as np\n",
        "\n",
        "## Iterate over each number in the input vector n times, n being the number of columns in the o/p matrix and output \n",
        "## an intermediate vector. Use diff order formula based on increasing and decreasing condition.\n",
        "## Reshape the intermediate vector using the size of the input vector (rows) and n (columns) to generate the o/p matrix. \n",
        "   \n",
        "def gen_vander_matrix(ipvector, n, increasing=False):\n",
        "    \n",
        "    if not increasing:\n",
        "        op_matx = np.array([x**(n-1-i) for x in ipvector for i in range(n)]).reshape(ipvector.size,n)\n",
        "    elif increasing:\n",
        "        op_matx = np.array([x**i for x in ipvector for i in range(n)]).reshape(ipvector.size,n)\n",
        "    \n",
        "    return op_matx\n",
        "\n",
        "print(\"------------OUTPUT-------------\\n\")\n",
        "\n",
        "inputvector = np.array([1,2,3,4,5])\n",
        "no_col_opmat = 3\n",
        "op_matx_dec_order = gen_vander_matrix(inputvector,no_col_opmat,False)\n",
        "op_matx_inc_order = gen_vander_matrix(inputvector,no_col_opmat,True)\n",
        "\n",
        "print(\"The input array is:\",inputvector,\"\\n\")\n",
        "print(\"Number of columns in output matrix should be:\",no_col_opmat,\"\\n\")\n",
        "print(\"Vander matrix of the input array in decreasing order of powers:\\n\\n\",op_matx_dec_order,\"\\n\")\n",
        "print(\"Vander matrix of the input array in increasing order of powers:\\n\\n\",op_matx_inc_order,\"\\n\")\n",
        "\n",
        "inputvector = np.array([1,2,4,6,8,10])\n",
        "no_col_opmat = 5\n",
        "op_matx_dec_order = gen_vander_matrix(inputvector,no_col_opmat,False)\n",
        "op_matx_inc_order = gen_vander_matrix(inputvector,no_col_opmat,True)\n",
        "\n",
        "print(\"---------------------------------------------------------------\\n\")\n",
        "print(\"The input array is:\",inputvector,\"\\n\")\n",
        "print(\"Number of columns in output matrix should be:\",no_col_opmat,\"\\n\")\n",
        "print(\"Vander matrix of the input array in decreasing order of powers:\\n\\n\",op_matx_dec_order,\"\\n\")\n",
        "print(\"Vander matrix of the input array in increasing order of powers:\\n\\n\",op_matx_inc_order,\"\\n\")"
      ],
      "execution_count": 3,
      "outputs": [
        {
          "output_type": "stream",
          "text": [
            "------------OUTPUT-------------\n",
            "\n",
            "The input array is: [1 2 3 4 5] \n",
            "\n",
            "Number of columns in output matrix should be: 3 \n",
            "\n",
            "Vander matrix of the input array in decreasing order of powers:\n",
            "\n",
            " [[ 1  1  1]\n",
            " [ 4  2  1]\n",
            " [ 9  3  1]\n",
            " [16  4  1]\n",
            " [25  5  1]] \n",
            "\n",
            "Vander matrix of the input array in increasing order of powers:\n",
            "\n",
            " [[ 1  1  1]\n",
            " [ 1  2  4]\n",
            " [ 1  3  9]\n",
            " [ 1  4 16]\n",
            " [ 1  5 25]] \n",
            "\n",
            "---------------------------------------------------------------\n",
            "\n",
            "The input array is: [ 1  2  4  6  8 10] \n",
            "\n",
            "Number of columns in output matrix should be: 5 \n",
            "\n",
            "Vander matrix of the input array in decreasing order of powers:\n",
            "\n",
            " [[    1     1     1     1     1]\n",
            " [   16     8     4     2     1]\n",
            " [  256    64    16     4     1]\n",
            " [ 1296   216    36     6     1]\n",
            " [ 4096   512    64     8     1]\n",
            " [10000  1000   100    10     1]] \n",
            "\n",
            "Vander matrix of the input array in increasing order of powers:\n",
            "\n",
            " [[    1     1     1     1     1]\n",
            " [    1     2     4     8    16]\n",
            " [    1     4    16    64   256]\n",
            " [    1     6    36   216  1296]\n",
            " [    1     8    64   512  4096]\n",
            " [    1    10   100  1000 10000]] \n",
            "\n"
          ],
          "name": "stdout"
        }
      ]
    }
  ]
}